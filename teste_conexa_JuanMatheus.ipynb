{
 "cells": [
  {
   "cell_type": "code",
   "execution_count": 15,
   "id": "d98a078e",
   "metadata": {},
   "outputs": [],
   "source": [
    "import pandas as pd\n",
    "import matplotlib.pyplot as plt"
   ]
  },
  {
   "cell_type": "code",
   "execution_count": 16,
   "id": "600ba286-1504-4a44-8662-bb554060cbd6",
   "metadata": {},
   "outputs": [],
   "source": [
    "# 1 - Lendo o Arquivo\n",
    "df = pd.read_excel(r'C:\\Users\\home\\Documents\\AIRFLOW\\case_consultas_2.xlsx', sheet_name='Export')"
   ]
  },
  {
   "cell_type": "code",
   "execution_count": 17,
   "id": "0fc4d532-39aa-40c0-8c44-9feb57059476",
   "metadata": {},
   "outputs": [
    {
     "name": "stdout",
     "output_type": "stream",
     "text": [
      "        id_consulta  id_profissional  id_paciente       data_consulta  \\\n",
      "0           2532996             7683       795180 2022-05-01 08:00:00   \n",
      "1           2628732             4249       811349 2022-05-01 08:00:00   \n",
      "2           2631407            37365     10327048 2022-05-01 08:00:00   \n",
      "3           2532987             7683       781476 2022-05-01 08:40:00   \n",
      "4           2640713            20997     10273861 2022-05-01 08:45:00   \n",
      "...             ...              ...          ...                 ...   \n",
      "143603      2803075            13406      1166230 2022-05-31 23:00:00   \n",
      "143604      2854195            32965     10108981 2022-05-31 23:00:00   \n",
      "143605      2861163            11134     10212220 2022-05-31 23:00:00   \n",
      "143606      2872091            37029      1126584 2022-05-31 23:00:00   \n",
      "143607      2873415            22903     10367022 2022-05-31 23:00:00   \n",
      "\n",
      "       status_consulta       convenio  \n",
      "0            Realizada   Operadora_83  \n",
      "1            Realizada    Particular_  \n",
      "2            Realizada  Operadora_117  \n",
      "3            Realizada   Operadora_83  \n",
      "4            Realizada  Operadora_106  \n",
      "...                ...            ...  \n",
      "143603       Realizada  Operadora_150  \n",
      "143604       Realizada    Empresa_447  \n",
      "143605       Realizada  Operadora_117  \n",
      "143606       Realizada   Operadora_81  \n",
      "143607       Realizada   Operadora_81  \n",
      "\n",
      "[143608 rows x 6 columns]\n"
     ]
    }
   ],
   "source": [
    "print(df)"
   ]
  },
  {
   "cell_type": "code",
   "execution_count": 18,
   "id": "52c3abec-82d7-40d3-8261-4b2666606b73",
   "metadata": {},
   "outputs": [],
   "source": [
    "# 2 - Criando uma nova coluna \"convenio_2\"\n",
    "df['convenio_2'] = df['convenio'].str.split('_').str[0]"
   ]
  },
  {
   "cell_type": "code",
   "execution_count": 19,
   "id": "739edd03-5a8e-43f6-b931-5dba4d904ccd",
   "metadata": {},
   "outputs": [],
   "source": [
    "# 3 - Transformando a coluna data_consulta em Datetime e criando hora_consulta\n",
    "\n",
    "df['data_consulta'] = pd.to_datetime(df['data_consulta'])\n",
    "\n",
    "df['hora_consulta'] = df['data_consulta'].dt.strftime('%H:%M:%S')"
   ]
  },
  {
   "cell_type": "code",
   "execution_count": 21,
   "id": "bba6200d-e588-45af-90eb-8dc70b9c47a7",
   "metadata": {},
   "outputs": [
    {
     "name": "stdout",
     "output_type": "stream",
     "text": [
      "        id_consulta  id_profissional  id_paciente       data_consulta  \\\n",
      "0           2532996             7683       795180 2022-05-01 08:00:00   \n",
      "1           2628732             4249       811349 2022-05-01 08:00:00   \n",
      "2           2631407            37365     10327048 2022-05-01 08:00:00   \n",
      "3           2532987             7683       781476 2022-05-01 08:40:00   \n",
      "4           2640713            20997     10273861 2022-05-01 08:45:00   \n",
      "...             ...              ...          ...                 ...   \n",
      "143603      2803075            13406      1166230 2022-05-31 23:00:00   \n",
      "143604      2854195            32965     10108981 2022-05-31 23:00:00   \n",
      "143605      2861163            11134     10212220 2022-05-31 23:00:00   \n",
      "143606      2872091            37029      1126584 2022-05-31 23:00:00   \n",
      "143607      2873415            22903     10367022 2022-05-31 23:00:00   \n",
      "\n",
      "       status_consulta       convenio  convenio_2 hora_consulta  \n",
      "0            Realizada   Operadora_83   Operadora      08:00:00  \n",
      "1            Realizada    Particular_  Particular      08:00:00  \n",
      "2            Realizada  Operadora_117   Operadora      08:00:00  \n",
      "3            Realizada   Operadora_83   Operadora      08:40:00  \n",
      "4            Realizada  Operadora_106   Operadora      08:45:00  \n",
      "...                ...            ...         ...           ...  \n",
      "143603       Realizada  Operadora_150   Operadora      23:00:00  \n",
      "143604       Realizada    Empresa_447     Empresa      23:00:00  \n",
      "143605       Realizada  Operadora_117   Operadora      23:00:00  \n",
      "143606       Realizada   Operadora_81   Operadora      23:00:00  \n",
      "143607       Realizada   Operadora_81   Operadora      23:00:00  \n",
      "\n",
      "[143608 rows x 8 columns]\n"
     ]
    }
   ],
   "source": [
    "print(df)"
   ]
  },
  {
   "cell_type": "code",
   "execution_count": 23,
   "id": "99940f32-aa3e-4810-852c-7a32a1ad2b3d",
   "metadata": {},
   "outputs": [
    {
     "name": "stdout",
     "output_type": "stream",
     "text": [
      "Operadora     88981\n",
      "Empresa       26330\n",
      "Associação    22336\n",
      "Particular     5961\n",
      "Name: convenio_2, dtype: int64\n"
     ]
    }
   ],
   "source": [
    "# 4 - Mostrar a quantidade de cada tipo de 'convenio_2'\n",
    "quantidade_por_convenio = df['convenio_2'].value_counts()\n",
    "print(quantidade_por_convenio)"
   ]
  },
  {
   "cell_type": "code",
   "execution_count": 24,
   "id": "fb5d06b1-38af-4fc7-a66a-95a9e8c7ae36",
   "metadata": {},
   "outputs": [
    {
     "data": {
      "image/png": "[encoded data removed]",
      "text/plain": [
       "<Figure size 432x288 with 1 Axes>"
      ]
     },
     "metadata": {},
     "output_type": "display_data"
    }
   ],
   "source": [
    "# 5 - Criando um visual para verificar a quantidade de \"Convenio_2\"\n",
    "\n",
    "quantidade_por_convenio = df['convenio_2'].value_counts()\n",
    "quantidade_por_convenio.plot(kind='pie', autopct='%1.1f%%', startangle=140)\n",
    "plt.title('Distribuição de Tipos de Convênio')\n",
    "plt.axis('equal')  # Faz com que o gráfico seja uma circunferência perfeita\n",
    "plt.show()"
   ]
  },
  {
   "cell_type": "code",
   "execution_count": 29,
   "id": "82911fd1-101d-4eb6-8fa0-777fd887e347",
   "metadata": {},
   "outputs": [
    {
     "name": "stdout",
     "output_type": "stream",
     "text": [
      "convenio_2             Associação  Empresa  Operadora  Particular\n",
      "faixa_do_dia                                                     \n",
      "Primeira faixa do dia       10732     5955      19518        1314\n",
      "Segunda Faixa do dia         9964     9206      32848        2183\n",
      "Terceira faixa do dia        1640    11169      36615        2464\n"
     ]
    }
   ],
   "source": [
    "# 6 - Separo por periodo do dia\n",
    "bins = [0, 12, 18, 24]\n",
    "labels = ['Primeira faixa do dia', 'Segunda Faixa do dia', 'Terceira faixa do dia']\n",
    "df['faixa_do_dia'] = pd.cut(df['data_consulta'].dt.hour, bins=bins, labels=labels, right=False)\n",
    "tabela_frequencia = pd.crosstab(df['faixa_do_dia'], df['convenio_2'])\n",
    "print(tabela_frequencia)"
   ]
  },
  {
   "cell_type": "code",
   "execution_count": 32,
   "id": "fe79b449-aa22-48fc-a6b5-1ca31fd55322",
   "metadata": {},
   "outputs": [
    {
     "name": "stdout",
     "output_type": "stream",
     "text": [
      "convenio_2             Associação  Empresa  Operadora  Particular  Total\n",
      "faixa_do_dia                                                            \n",
      "Primeira faixa do dia       10732     5955      19518        1314  37519\n",
      "Segunda Faixa do dia         9964     9206      32848        2183  54201\n",
      "Terceira faixa do dia        1640    11169      36615        2464  51888\n"
     ]
    }
   ],
   "source": [
    "# 7 - Adiciono a visão total\n",
    "tabela_frequencia = pd.crosstab(df['faixa_do_dia'], df['convenio_2'])\n",
    "tabela_frequencia['Total'] = tabela_frequencia.sum(axis=1)\n",
    "print(tabela_frequencia)"
   ]
  },
  {
   "cell_type": "code",
   "execution_count": 35,
   "id": "4da1a6ee-3b5d-4b8e-9053-07d45e44ad5c",
   "metadata": {},
   "outputs": [
    {
     "name": "stdout",
     "output_type": "stream",
     "text": [
      "convenio_2             Associação  Empresa  Operadora  Particular  Total  \\\n",
      "faixa_do_dia                                                               \n",
      "Primeira faixa do dia       10732     5955      19518        1314  37519   \n",
      "Segunda Faixa do dia         9964     9206      32848        2183  54201   \n",
      "Terceira faixa do dia        1640    11169      36615        2464  51888   \n",
      "\n",
      "convenio_2             % Associação  % Empresa  % Operadora  % Particular  \\\n",
      "faixa_do_dia                                                                \n",
      "Primeira faixa do dia     28.604174  15.871958    52.021642      3.502226   \n",
      "Segunda Faixa do dia      18.383425  16.984926    60.604048      4.027601   \n",
      "Terceira faixa do dia      3.160654  21.525208    70.565449      4.748689   \n",
      "\n",
      "convenio_2             % Total  \n",
      "faixa_do_dia                    \n",
      "Primeira faixa do dia    100.0  \n",
      "Segunda Faixa do dia     100.0  \n",
      "Terceira faixa do dia    100.0  \n"
     ]
    }
   ],
   "source": [
    "# 8 - Adiciono a visão %\n",
    "\n",
    "\n",
    "tabela_frequencia = pd.crosstab(df['faixa_do_dia'], df['convenio_2'])\n",
    "tabela_frequencia['Total'] = tabela_frequencia.sum(axis=1)\n",
    "for coluna in tabela_frequencia.columns:\n",
    "    tabela_frequencia[f'% {coluna}'] = (tabela_frequencia[coluna] / tabela_frequencia['Total']) * 100\n",
    "\n",
    "print(tabela_frequencia)"
   ]
  },
  {
   "cell_type": "markdown",
   "id": "05ca046b-a8ad-4204-8913-c058e6fc1a71",
   "metadata": {},
   "source": [
    "Insights Obtidos\n",
    "\n",
    "1 - Distribuição dos Tipos de Convênio:\n",
    "Observamos que a maioria das consultas foram realizadas por clientes com convênios de Operadora, seguido por Empresa, Associação e, por último, Particular. Isso indica que uma parte significativa dos pacientes utiliza serviços de saúde por meio de convênios empresariais ou planos de saúde.\n",
    "\n",
    "2 - Variação ao Longo do Dia:\n",
    "Ao analisar a distribuição das consultas ao longo do dia, percebemos que o número de consultas tende a aumentar nas faixas de horário posteriores, com a maior proporção de consultas ocorrendo na segunda faixa do dia. Isso indica uma demanda crescente por serviços de saúde durante a tarde e a noite.\n",
    "\n",
    "3 - Comportamento por Tipo de Convênio:\n",
    "Examinando a distribuição das consultas por tipo de convênio em cada faixa do dia, podemos notar que:\n",
    "\n",
    "- O perfil de consulta dos convênios de Operadora é consistente ao longo do dia, representando a maioria das consultas em todas as faixas horárias.\n",
    "- As consultas com convênios de Empresa são mais frequentes nas faixas de horário intermediárias.\n",
    "- Os convênios de Associação têm uma presença mais uniforme ao longo do dia, com uma leve queda no número de consultas durante a segunda faixa do dia.\n",
    "- As consultas particulares têm uma participação relativamente baixa, representando uma pequena proporção do total em todas as faixas horárias.\n",
    "\n",
    "4 - Porcentagem do Total:\n",
    "As porcentagens em relação ao total para cada tipo de convênio e faixa do dia fornecem uma visão mais detalhada da participação de cada segmento no volume total de consultas em diferentes momentos do dia.\n",
    "\n",
    "Esses insights são úteis para o planejamento estratégico e operacional de clínicas e hospitais, permitindo uma melhor alocação de recursos e o desenvolvimento de estratégias de atendimento mais eficazes para atender às necessidades dos pacientes em diferentes momentos do dia.\n",
    "Exemplos:\n",
    "- Aumento de Funcionários nas clínicas e hospitais na segunda faixa do dia.\n",
    "- Implementação de um sistema de agendamento inteligente que utilize os dados históricos de cada paciente."
   ]
  },
  {
   "cell_type": "code",
   "execution_count": null,
   "id": "047e3d08-09ec-497b-a138-a1fbeb2ccfdd",
   "metadata": {},
   "outputs": [],
   "source": []
  }
 ],
 "metadata": {
  "kernelspec": {
   "display_name": "Python 3",
   "language": "python",
   "name": "python3"
  },
  "language_info": {
   "codemirror_mode": {
    "name": "ipython",
    "version": 3
   },
   "file_extension": ".py",
   "mimetype": "text/x-python",
   "name": "python",
   "nbconvert_exporter": "python",
   "pygments_lexer": "ipython3",
   "version": "3.8.8"
  }
 },
 "nbformat": 4,
 "nbformat_minor": 5
}
